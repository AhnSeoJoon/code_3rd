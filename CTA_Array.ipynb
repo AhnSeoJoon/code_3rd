{
  "nbformat": 4,
  "nbformat_minor": 0,
  "metadata": {
    "colab": {
      "provenance": [],
      "authorship_tag": "ABX9TyPJc5gP0ALOHMOPNZ3ICSys",
      "include_colab_link": true
    },
    "kernelspec": {
      "name": "python3",
      "display_name": "Python 3"
    },
    "language_info": {
      "name": "python"
    }
  },
  "cells": [
    {
      "cell_type": "markdown",
      "metadata": {
        "id": "view-in-github",
        "colab_type": "text"
      },
      "source": [
        "<a href=\"https://colab.research.google.com/github/AhnSeoJoon/code_3rd/blob/main/CTA_Array.ipynb\" target=\"_parent\"><img src=\"https://colab.research.google.com/assets/colab-badge.svg\" alt=\"Open In Colab\"/></a>"
      ]
    },
    {
      "cell_type": "markdown",
      "source": [
        "1. 배열의 선언\n",
        " - 일반 변수의 선언 : 변수면 = 변수의 값\n",
        " - 배열의 변수 선언 : 변수면 = [  ,  ,  ]"
      ],
      "metadata": {
        "id": "X9RSV8ewLQg4"
      }
    },
    {
      "cell_type": "code",
      "source": [
        "movie_list = [\"아바타\", \"타이타닉\", \"스타워즈\", \"쥬라기 월드\", \"어벤져스\"]  # 영화 제목들을 담고 있는 리스트를 생성합니다.\n",
        "print(movie_list[0])                                                        # 리스트의 첫 번째 인덱스에 해당하는 영화 제목을 출력합니다.\n",
        "print(movie_list[4])                                                        # 리스트의 다섯 번째 인덱스에 해당하는 영화 제목을 출력합니다."
      ],
      "metadata": {
        "colab": {
          "base_uri": "https://localhost:8080/"
        },
        "id": "0Y2-MXbRNVMC",
        "outputId": "25349454-105c-4e62-8d43-8dae135dba49"
      },
      "execution_count": null,
      "outputs": [
        {
          "output_type": "stream",
          "name": "stdout",
          "text": [
            "아바타\n",
            "어벤져스\n"
          ]
        }
      ]
    },
    {
      "cell_type": "markdown",
      "source": [
        "2. 요일을 배열로 선언하라,\n",
        " - 변수명 : day_list\n",
        "  * 요일 : 월(Mon), 화(Tues), 수(WED), 목(Thur), 금(Fri), 토(Sat), 일(Sun)"
      ],
      "metadata": {
        "id": "yE_2om56OdYz"
      }
    },
    {
      "cell_type": "code",
      "source": [
        "day_list = [\"월(Mon.)\", \"화(Tue.)\", \"수(Wed.)\", \"목(Thur.)\", \"금(Fri.)\", \"토(Sat.)\", \"일(Sun.)\"]   # 요일들을 담고 있는 리스트를 생성합니다.\n",
        "print(day_list[0])                       # 리스트의 첫 번째 인덱스에 해당하는 요일을 출력합니다.\n",
        "print(day_list[1])                       # 리스트의 두 번째 인덱스에 해당하는 요일을 출력합니다.\n",
        "print(day_list[2])                       # 리스트의 세 번째 인덱스에 해당하는 요일을 출력합니다.\n",
        "print(day_list[3])                       # 리스트의 네 번째 인덱스에 해당하는 요일을 출력합니다.\n",
        "print(day_list[4])                       # 리스트의 다섯 번째 인덱스에 해당하는 요일을 출력합니다.\n",
        "print(day_list[5])                       # 리스트의 여섯 번째 인덱스에 해당하는 요일을 출력합니다.\n",
        "print(day_list[6])                       # 리스트의 일곱 번째 인덱스에 해당하는 요일을 출력합니다."
      ],
      "metadata": {
        "colab": {
          "base_uri": "https://localhost:8080/"
        },
        "id": "2Ng4QpQVPTNZ",
        "outputId": "665335c4-0019-4c33-8657-e66a6f0ba254"
      },
      "execution_count": null,
      "outputs": [
        {
          "output_type": "stream",
          "name": "stdout",
          "text": [
            "월(Mon.)\n",
            "화(Tue.)\n",
            "수(Wed.)\n",
            "목(Thur.)\n",
            "금(Fri.)\n",
            "토(Sat.)\n",
            "일(Sun.)\n"
          ]
        }
      ]
    }
  ]
}
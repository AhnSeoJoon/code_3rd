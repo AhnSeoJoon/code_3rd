{
  "nbformat": 4,
  "nbformat_minor": 0,
  "metadata": {
    "colab": {
      "provenance": [],
      "authorship_tag": "ABX9TyMU0hbTRIB0V0HiUfhyjP3X",
      "include_colab_link": true
    },
    "kernelspec": {
      "name": "python3",
      "display_name": "Python 3"
    },
    "language_info": {
      "name": "python"
    }
  },
  "cells": [
    {
      "cell_type": "markdown",
      "metadata": {
        "id": "view-in-github",
        "colab_type": "text"
      },
      "source": [
        "<a href=\"https://colab.research.google.com/github/AhnSeoJoon/code_3rd/blob/main/CTBL_1.ipynb\" target=\"_parent\"><img src=\"https://colab.research.google.com/assets/colab-badge.svg\" alt=\"Open In Colab\"/></a>"
      ]
    },
    {
      "cell_type": "markdown",
      "source": [
        "1. 학생으로부터 성적을 입력받아 합격유무를 출력하는 코드작성\n",
        " - 사용변수: Grade\n",
        " - 사용수식: Grade >= 70:"
      ],
      "metadata": {
        "id": "kpMis5_s0jFn"
      }
    },
    {
      "cell_type": "code",
      "source": [
        "Grade = int(input(\"성적입력: \"))    # 사용자로부터 정수 형태의 성적을 입력받아 변수 Grade에 저장합니다.\n",
        "if Grade >= 70:                     # 만약 Grade가 70 이상이면 아래의 코드 블록을 실행합니다.\n",
        "  print(\"70점 이상이므로 합격\")     # \"70점 이상이므로 합격\"을 출력합니다.\n",
        "else:                               # 그렇지 않으면(Grade가 70 미만인 경우) 아래의 코드 블록을 실행합니다.\n",
        "  print(\"70점이하는 불합격\")        # \"70점 이하는 불합격\"을 출력합니다."
      ],
      "metadata": {
        "colab": {
          "base_uri": "https://localhost:8080/"
        },
        "id": "6ovyydFO1QwS",
        "outputId": "d1b89970-f373-4eb3-9538-30a76fb6efd4"
      },
      "execution_count": null,
      "outputs": [
        {
          "output_type": "stream",
          "name": "stdout",
          "text": [
            "성적입력: 80\n",
            "70점 이상이므로 합격\n"
          ]
        }
      ]
    },
    {
      "cell_type": "markdown",
      "source": [
        "2. 쇼핑몰의 배송료를 계산하는 코드 작성\n",
        " - 변수명 : price, shipping_cost\n",
        " - 수식 : price >= 20000\n",
        " - shipping_cost = 3000"
      ],
      "metadata": {
        "id": "RNlx_0r53tr3"
      }
    },
    {
      "cell_type": "code",
      "source": [
        "price = int(input(\"구입금액 입력: \"))                   # 사용자로부터 정수 형태의 구입금액을 입력받아 변수 price에 저장합니다.\n",
        "if price >= 20000:                                      # 만약 price가 20000 이상이면 아래의 코드 블록을 실행합니다.\n",
        "  shipping_cost = 0                                     # 배송료를 0으로 설정합니다.\n",
        "  print(f'구입금액이 {price}원 이상입니다. ')           # 구입금액이 얼마인지 출력합니다.\n",
        "else:                                                   # 그렇지 않으면(price가 20000 미만인 경우) 아래의 코드 블록을 실행합니다\n",
        "  shipping_cost = 3000                                  # 배송료를 3000으로 설정합니다.\n",
        "  print(\"구입금액이 2만원 이하입니다\")                  # \"구입금액이 2만원 이하입니다.\"를 출력합니다.\n",
        "print(f'회원님의 배송료는{shipping_cost}입니다. ')      # 배송료를 출력합니다."
      ],
      "metadata": {
        "colab": {
          "base_uri": "https://localhost:8080/"
        },
        "id": "6ZhldUy841bm",
        "outputId": "f2f7fa0a-d935-4b6d-ebdf-a038567cdb92"
      },
      "execution_count": 3,
      "outputs": [
        {
          "output_type": "stream",
          "name": "stdout",
          "text": [
            "구입금액 입력: 20000\n",
            "구입금액이 20000원 이상입니다. \n",
            "회원님의 배송료는0입니다. \n"
          ]
        }
      ]
    },
    {
      "cell_type": "markdown",
      "source": [
        "3. 근무시간에 따라 초과근무와 정상근무를 판별하는 코드작성\n",
        " - 변수 :work_hour\n",
        " - 수식 :>=, 기준시간:72시간"
      ],
      "metadata": {
        "id": "P_R4Z5q47bg7"
      }
    },
    {
      "cell_type": "code",
      "source": [
        "work_hour = int(input(\"근무시간 입력: \"))    # 사용자로부터 정수 형태의 근무시간을 입력받아 변수 work_hour에 저장합니다.\n",
        "if work_hour  >= 72:                         # 만약 work_hour가 72 이상이면 아래의 코드 블록을 실행합니다.\n",
        "  print(\"초과근무하였습니다. \")              # \"초과근무하였습니다.\"를 출력합니다.\n",
        "else:                                        # 그렇지 않으면(work_hour가 72 미만인 경우) 아래의 코드 블록을 실행합니다.\n",
        "  print(\"정상근무하였습니다. \")              # \"정상근무하였습니다.\"를 출력합니다."
      ],
      "metadata": {
        "colab": {
          "base_uri": "https://localhost:8080/"
        },
        "id": "VRA7HC9U8oNY",
        "outputId": "ea263562-fe2d-42c1-8d52-c93f6bc97e43"
      },
      "execution_count": null,
      "outputs": [
        {
          "output_type": "stream",
          "name": "stdout",
          "text": [
            "근무시간 입력: 73\n",
            "초과근무하였습니다\n"
          ]
        }
      ]
    },
    {
      "cell_type": "markdown",
      "source": [
        "4. 정수를 입력받아서 짝수인지 홀수인지 판별하는 코드 작성\n",
        " - 변수 : num\n",
        " - 수식 : (num % 2) != 0"
      ],
      "metadata": {
        "id": "OXYVZ9629-Ji"
      }
    },
    {
      "cell_type": "code",
      "source": [
        "num = int(input(\"정수를 입력하시오: \"))     # 사용자로부터 정수를 입력받아 변수 num에 저장합니다.\n",
        "if (num % 2) != 0:                          # 만약 num을 2로 나눈 나머지가 0이 아니면 아래의 코드 블록을 실행합니다.\n",
        "  print(\"홀수입니다.\")                      # \"홀수입니다.\"를 출력합니다.\n",
        "else:                                       # 그렇지 않으면(num을 2로 나눈 나머지가 0인 경우) 아래의 코드 블록을 실행합니다.\n",
        "  print(\"짝수입니다.\")                      # \"짝수입니다.\"를 출력합니다."
      ],
      "metadata": {
        "colab": {
          "base_uri": "https://localhost:8080/"
        },
        "id": "MzZ4dZVp-3oh",
        "outputId": "174571e5-37f4-453a-efcf-10ab00319c0c"
      },
      "execution_count": null,
      "outputs": [
        {
          "output_type": "stream",
          "name": "stdout",
          "text": [
            "정수를 입력하시오: 4\n",
            "짝수입니다.\n"
          ]
        }
      ]
    },
    {
      "cell_type": "markdown",
      "source": [
        "5. 사용자의 이름과 나이를 입력받고 답변하는 코드 작성\n",
        " - 입력 : 성명 - name\n",
        " - 입력 : 나이 - age\n",
        " - 수식 : if age <= 20:\n",
        "\n",
        " 최종출력물\n",
        " - 이름을 입력하시오.: ***\n",
        " - 나이를 입력하시오.: **\n",
        " -(1) 프로그래밍을 배우는 최적의 나이입니다.\n",
        " -(2)아직도 늦지 않았습니다. 도전정신"
      ],
      "metadata": {
        "id": "U7RU8n9XAlVk"
      }
    },
    {
      "cell_type": "code",
      "source": [
        "name = input(\"이름을 입력하시오.: \")                    # 사용자로부터 이름을 입력받아 변수 name에 저장합니다.\n",
        "age = int(input(\"나이를 입력하시오.: \"))                # 사용자로부터 정수 형태의 나이를 입력받아 변수 age에 저장합니다.\n",
        "if age <= 20:                                           # 만약 age가 20 이하이면 아래의 코드 블록을 실행합니다.\n",
        "  print(\"프로그래밍을 배우는 최적의 나이입니다. \")      # \"프로그래밍을 배우는 최적의 나이입니다.\"를 출력합니다.\n",
        "else:                                                   # 그렇지 않으면(age가 20 초과인 경우) 아래의 코드 블록을 실행합니다.\n",
        "  print(\"아직도 늦지 않았습니다. 도전정신 \")            # \"아직도 늦지 않았습니다. 도전정신\"을 출력합니다."
      ],
      "metadata": {
        "colab": {
          "base_uri": "https://localhost:8080/"
        },
        "id": "fzCivQdABs_S",
        "outputId": "ff95ab16-6b9d-4663-ee9b-e78b44a12306"
      },
      "execution_count": null,
      "outputs": [
        {
          "output_type": "stream",
          "name": "stdout",
          "text": [
            "이름을 입력하시오.: ooo\n",
            "나이를 입력하시오.: 20\n",
            "프로그래밍을 배우는 최적의 나이입니다. \n"
          ]
        }
      ]
    },
    {
      "cell_type": "code",
      "source": [
        "# 먼저 파이썬의 내장 모듈인 random을 import 합니다.\n",
        "# 이 모듈은 무작위 숫자를 생성하는 기능을 제공합니다.\n",
        "import random\n",
        "\n",
        "# 1부터 45까지의 숫자를 생성합니다. 이는 로또 번호의 범위입니다.\n",
        "numbers = range(1, 46)\n",
        "\n",
        "# random 모듈의 sample 함수를 사용하여 numbers 리스트에서 중복 없이 6개의 숫자를 무작위로 선택합니다.\n",
        "lotto = random.sample(numbers, 6)\n",
        "\n",
        "# 선택된 로또 번호를 출력합니다.\n",
        "print(\"로또 번호는: \", lotto)\n"
      ],
      "metadata": {
        "colab": {
          "base_uri": "https://localhost:8080/"
        },
        "id": "pNG3fbZgFELq",
        "outputId": "2f4dd064-3ca9-4329-d4c4-f6e2e76e3e9c"
      },
      "execution_count": null,
      "outputs": [
        {
          "output_type": "stream",
          "name": "stdout",
          "text": [
            "로또 번호는:  [36, 4, 2, 8, 34, 33]\n"
          ]
        }
      ]
    }
  ]
}
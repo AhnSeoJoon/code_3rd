{
  "nbformat": 4,
  "nbformat_minor": 0,
  "metadata": {
    "colab": {
      "provenance": [],
      "authorship_tag": "ABX9TyPOF0y/1yNaQiJuKyW40Xhc",
      "include_colab_link": true
    },
    "kernelspec": {
      "name": "python3",
      "display_name": "Python 3"
    },
    "language_info": {
      "name": "python"
    }
  },
  "cells": [
    {
      "cell_type": "markdown",
      "metadata": {
        "id": "view-in-github",
        "colab_type": "text"
      },
      "source": [
        "<a href=\"https://colab.research.google.com/github/AhnSeoJoon/code_3rd/blob/main/CTBA_9.ipynb\" target=\"_parent\"><img src=\"https://colab.research.google.com/assets/colab-badge.svg\" alt=\"Open In Colab\"/></a>"
      ]
    },
    {
      "cell_type": "markdown",
      "source": [
        "1. 두 가지 이상의 선택, 다방향 선택구도 코딩\n",
        " - 배송료처리 3가지로 작성\n",
        " - 변수: price, 가격 10만원이상 0원,2만원이상 3000원,그외 5천원"
      ],
      "metadata": {
        "id": "8OmVoT7nL8I3"
      }
    },
    {
      "cell_type": "code",
      "source": [
        "print(\"배송료를 계산합니다.: \")                   # 배송료 계산을 위한 안내 메시지를 출력합니다.\n",
        "print('#' * 30)                                   # 구분선을 출력합니다.\n",
        "price = int(input(\"구입금액 입력: \"))             # 사용자로부터 구입금액을 입력받습니다.\n",
        "if price >= 10000:                                # 만약 구입금액이 10000 이상이라면\n",
        "  shipping_cost = 0                               # 배송료는 0원입니다.\n",
        "else:                                             # 그렇지 않으면(price가 10000 미만인 경우) 아래의 코드 블록을 실행합니다.\n",
        "  if price >= 20000:                              # 그렇지 않고, 구입금액이 20000 이상이라면\n",
        "    shipping_cost = 3000                          # 배송료는 3000원입니다.\n",
        "  else:                                           # 그렇지 않으면(price가 20000 미만인 경우) 아래의 코드 블록을 실행합니다.\n",
        "      shipping_cost = 5000                        # 그 외의 경우에는 배송료는 5000원입니다.\n",
        "print(f'배송료는 {shipping_cost} 입니다.')        # 계산된 배송료를 출력합니다."
      ],
      "metadata": {
        "colab": {
          "base_uri": "https://localhost:8080/"
        },
        "id": "pouvza75NIhP",
        "outputId": "a8b2953a-1867-4ed5-e3b0-ad023420951b"
      },
      "execution_count": null,
      "outputs": [
        {
          "output_type": "stream",
          "name": "stdout",
          "text": [
            "배송료를 계산합니다.: \n",
            "##############################\n",
            "구입금액 입력: 19000\n",
            "배송료는 0 입니다.\n"
          ]
        }
      ]
    },
    {
      "cell_type": "markdown",
      "source": [
        "2. 환영합니다. 5번 출력, 10번 출력, 30번 출력"
      ],
      "metadata": {
        "id": "rcKLuHRsOUE8"
      }
    },
    {
      "cell_type": "code",
      "source": [
        "print(\"환영합니다.\")     # \"환영합니다.\"를 출력합니다.\n",
        "print(\"환영합니다.\")     # \"환영합니다.\"를 출력합니다.\n",
        "print(\"환영합니다.\")     # \"환영합니다.\"를 출력합니다.\n",
        "print(\"환영합니다.\")     # \"환영합니다.\"를 출력합니다.\n",
        "print(\"환영합니다.\")     # \"환영합니다.\"를 출력합니다."
      ],
      "metadata": {
        "colab": {
          "base_uri": "https://localhost:8080/"
        },
        "id": "tfbTPv_vOhi3",
        "outputId": "f6d5fe3d-cc70-4037-e221-6b4577467bd3"
      },
      "execution_count": null,
      "outputs": [
        {
          "output_type": "stream",
          "name": "stdout",
          "text": [
            "환영합니다.\n",
            "환영합니다.\n",
            "환영합니다.\n",
            "환영합니다.\n",
            "환영합니다.\n"
          ]
        }
      ]
    },
    {
      "cell_type": "code",
      "source": [
        "print(\"환영합니다.\\n\" * 5)   # \"환영합니다.\"를 5번 반복하여 출력합니다."
      ],
      "metadata": {
        "colab": {
          "base_uri": "https://localhost:8080/"
        },
        "id": "uaPN-e2bO1sV",
        "outputId": "14419c9a-244d-47bc-ec95-544ba2bb7b2c"
      },
      "execution_count": null,
      "outputs": [
        {
          "output_type": "stream",
          "name": "stdout",
          "text": [
            "환영합니다.\n",
            "환영합니다.\n",
            "환영합니다.\n",
            "환영합니다.\n",
            "환영합니다.\n",
            "\n"
          ]
        }
      ]
    },
    {
      "cell_type": "code",
      "source": [
        "count = 1                                   # 변수 count를 1로 초기화합니다.\n",
        "while count <= 5:                           # count가 5보다 작거나 같은 동안 반복합니다.\n",
        "  print(\"(\", count, \")\", \"환영합니다.\")     # count와 \"환영합니다.\"를 함께 출력합니다.\n",
        "  print(F'({count})', \"환영합니다. \")       # f-string을 사용하여 count와 \"환영합니다.\"를 함께 출력합니다.\n",
        "  #count = count + 1\n",
        "  count += 1                                # count를 1씩 증가시킵니다"
      ],
      "metadata": {
        "colab": {
          "base_uri": "https://localhost:8080/"
        },
        "id": "Hj1Ly-oaSoiI",
        "outputId": "03948b49-2cd9-4b3a-edd7-c050caf16b97"
      },
      "execution_count": null,
      "outputs": [
        {
          "output_type": "stream",
          "name": "stdout",
          "text": [
            "( 1 ) 환영합니다.\n",
            "(1) 환영합니다. \n",
            "( 2 ) 환영합니다.\n",
            "(2) 환영합니다. \n",
            "( 3 ) 환영합니다.\n",
            "(3) 환영합니다. \n",
            "( 4 ) 환영합니다.\n",
            "(4) 환영합니다. \n",
            "( 5 ) 환영합니다.\n",
            "(5) 환영합니다. \n"
          ]
        }
      ]
    },
    {
      "cell_type": "markdown",
      "source": [
        "3. 0부터 9까지 출력하는 코드 작성\n",
        " - 변수:x"
      ],
      "metadata": {
        "id": "A8bAaXQbUubo"
      }
    },
    {
      "cell_type": "code",
      "source": [
        "x = 0                       # 변수 x를 0으로 초기화합니다.\n",
        "while x < 10:               # x가 10보다 작은 동안 반복합니다.\n",
        "  print(x, end=' ')         # x를 출력하고, end=' '를 사용하여 공백 문자로 끝을 나타냅니다.\n",
        "  x += 1                    # x를 1씩 증가시킵니다."
      ],
      "metadata": {
        "colab": {
          "base_uri": "https://localhost:8080/"
        },
        "id": "8zeIvskiU5Gn",
        "outputId": "eacdb46c-68d5-4299-ac1c-849a365e111d"
      },
      "execution_count": null,
      "outputs": [
        {
          "output_type": "stream",
          "name": "stdout",
          "text": [
            "0 1 2 3 4 5 6 7 8 9 "
          ]
        }
      ]
    },
    {
      "cell_type": "markdown",
      "source": [
        "4. 1부터 10까지 정수와 합을 계산하여 출력하는 코드"
      ],
      "metadata": {
        "id": "287XmB38YYwW"
      }
    },
    {
      "cell_type": "code",
      "source": [
        "x = 1                    # 변수 x를 1로 초기화합니다.\n",
        "total = 0                # 변수 total을 0으로 초기화합니다.\n",
        "while x <= 10:           # x가 10 이하인 동안 반복합니다.\n",
        "  total = total + x      # total에 x를 더한 값을 total에 다시 저장합니다.\n",
        "  x += 1                 # x를 1씩 증가시킵니다.\n",
        "print(total)             # total의 최종 값을 출력합니다."
      ],
      "metadata": {
        "colab": {
          "base_uri": "https://localhost:8080/"
        },
        "id": "ditQsW-cYh2J",
        "outputId": "69ba5ccb-f655-44bf-d801-b21d8606cf5a"
      },
      "execution_count": null,
      "outputs": [
        {
          "output_type": "stream",
          "name": "stdout",
          "text": [
            "55\n"
          ]
        }
      ]
    },
    {
      "cell_type": "code",
      "source": [
        "x = 1                   # 변수 x를 1로 초기화합니다.\n",
        "while x <= 10:          # x가 10 이하인 동안 반복합니다.\n",
        "  total = total + x     # total에 x를 더한 값을 total에 다시 저장합니다.\n",
        "  x += 1                # x를 1씩 증가시킵니다."
      ],
      "metadata": {
        "id": "4wbU37f1Y651"
      },
      "execution_count": null,
      "outputs": []
    },
    {
      "cell_type": "markdown",
      "source": [
        "5. 3-6-9 게임(3의 배수 판단): 3의 배수를 3으로 나누면 나머지가 0이 되므로 (i mod 3)의 값이 0이면 박수를 출력, 아니면 숫자를 출력해주는 코드 작성"
      ],
      "metadata": {
        "id": "H5v-6oUmVnR7"
      }
    },
    {
      "cell_type": "code",
      "source": [
        "i = 0                              # 변수 i를 0으로 초기화합니다.\n",
        "while i <= 30:                     # i가 30 이하일 때까지 반복합니다.\n",
        "  if i % 3 ==0:                    # 만약 i를 3으로 나눈 나머지가 0이면(즉, i가 3의 배수인 경우) 아래의 코드 블록을 실행합니다.\n",
        "    print(\"박수\", end=' ')         # \"박수\"라는 문자열을 출력합니다. end=' '를 사용하여 공백 문자로 끝을 처리합니다.\n",
        "  else:                            # 그렇지 않으면(i가 3의 배수가 아닌 경우) 아래의 코드 블록을 실행합니다.\n",
        "    print(i, end=' ')              # i 값을 출력합니다. end=' '를 사용하여 공백 문자로 끝을 처리합니다.\n",
        "  i += 1                           # i 값을 1씩 증가시킵니다."
      ],
      "metadata": {
        "colab": {
          "base_uri": "https://localhost:8080/"
        },
        "id": "740py54dWIt8",
        "outputId": "16670b65-e36c-4a24-db2c-b383318e65bc"
      },
      "execution_count": null,
      "outputs": [
        {
          "output_type": "stream",
          "name": "stdout",
          "text": [
            "박수 1 2 박수 4 5 박수 7 8 박수 10 11 박수 13 14 박수 16 17 박수 19 20 박수 22 23 박수 25 26 박수 28 29 박수 "
          ]
        }
      ]
    },
    {
      "cell_type": "code",
      "source": [
        "for num in range(1, 11):            # 1부터 11까지의 숫자를 반복\n",
        "  if num % 3 ==0:                   # 숫자(num)를 3으로 나눈 나머지가 0인 경우\n",
        "    print(\"박수\", end=' ')          # 박수를 출력하고 공백 만듦\n",
        "  else:                             # 그게 아니면\n",
        "    print(num, end=' ')             # 숫자만 출력하고 공백 만듦"
      ],
      "metadata": {
        "colab": {
          "base_uri": "https://localhost:8080/"
        },
        "id": "Gmnw-XgPZP1b",
        "outputId": "38d68e7b-5059-496a-878c-4da7cc4d0935"
      },
      "execution_count": null,
      "outputs": [
        {
          "output_type": "stream",
          "name": "stdout",
          "text": [
            "1 2 박수 4 5 박수 7 8 박수 10 "
          ]
        }
      ]
    },
    {
      "cell_type": "markdown",
      "source": [
        "6. 팩토리얼 계산하는 코드 작성"
      ],
      "metadata": {
        "id": "m25rTUcCafjM"
      }
    },
    {
      "cell_type": "code",
      "source": [
        "i = 5                          # 변수 i를 5로 초기화합니다.\n",
        "factorial = 1                  # 변수 factorial을 1로 초기화합니다.\n",
        "while i >= 1:                  # i가 1 이상인 동안 반복합니다.\n",
        "  factorial = factorial * i    # factorial에 i를 곱한 값을 할당합니다.\n",
        "  i -= 1                       # i를 1씩 감소시킵니다.\n",
        "print(factorial)               # 최종적인 factorial 값을 출력합니다."
      ],
      "metadata": {
        "colab": {
          "base_uri": "https://localhost:8080/"
        },
        "id": "wmDibNJmaoIX",
        "outputId": "4291222a-8e73-4476-9bd3-e8b463062646"
      },
      "execution_count": null,
      "outputs": [
        {
          "output_type": "stream",
          "name": "stdout",
          "text": [
            "120\n"
          ]
        }
      ]
    },
    {
      "cell_type": "code",
      "source": [
        "num = int(input(\"팩토리얼 값 입력: \"))         # 사용자로부터 정수 값을 입력받아 변수 num에 저장합니다.\n",
        "factorial = 1                                  # 변수 factorial을 1로 초기화합니다.\n",
        "while num >= 1:                                # num이 1 이상인 동안 반복합니다.\n",
        "  factorial = factorial * num                  # factorial에 num을 곱한 값을 할당합니다.\n",
        "  num -= 1                                     # num을 1씩 감소시킵니다.\n",
        "print(\"계산된 팩토리얼 값은 :\", factorial)     # 계산된 팩토리얼 값을 출력합니다."
      ],
      "metadata": {
        "colab": {
          "base_uri": "https://localhost:8080/"
        },
        "id": "WHi5_lmpbf2l",
        "outputId": "4391430f-2339-42b0-8ac7-4787fa2bb99d"
      },
      "execution_count": null,
      "outputs": [
        {
          "output_type": "stream",
          "name": "stdout",
          "text": [
            "팩토리얼 값 입력: 5\n",
            "계산된 팩토리얼 값은 : 120\n"
          ]
        }
      ]
    },
    {
      "cell_type": "markdown",
      "source": [
        "*=는 파이썬에서 사용되는 복합 할당 연산자 중 하나입니다. *= 연산자는 변수에 현재 값과 다른 값을 곱한 후 그 결과를 변수에 다시 할당하는 역할을 합니다."
      ],
      "metadata": {
        "id": "xURWIEHPQbOX"
      }
    },
    {
      "cell_type": "markdown",
      "source": [
        "+=는 파이썬에서 사용되는 복합 할당 연산자 중 하나입니다. += 연산자는 변수에 현재 값과 다른 값을 더한 후 그 결과를 변수에 다시 할당하는 역할을 합니다."
      ],
      "metadata": {
        "id": "jcyW418FQugV"
      }
    },
    {
      "cell_type": "markdown",
      "source": [
        "-=는 파이썬에서 사용되는 복합 할당 연산자 중 하나입니다. -= 연산자는 변수에 현재 값에서 다른 값을 빼고, 그 결과를 변수에 다시 할당하는 역할을 합니다."
      ],
      "metadata": {
        "id": "Jlgz_b7zQxf5"
      }
    }
  ]
}
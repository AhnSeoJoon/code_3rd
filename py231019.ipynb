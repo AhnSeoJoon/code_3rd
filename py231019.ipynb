{
  "nbformat": 4,
  "nbformat_minor": 0,
  "metadata": {
    "colab": {
      "provenance": [],
      "authorship_tag": "ABX9TyOZSGVDmf9sV3WJJAalQCQJ",
      "include_colab_link": true
    },
    "kernelspec": {
      "name": "python3",
      "display_name": "Python 3"
    },
    "language_info": {
      "name": "python"
    }
  },
  "cells": [
    {
      "cell_type": "markdown",
      "metadata": {
        "id": "view-in-github",
        "colab_type": "text"
      },
      "source": [
        "<a href=\"https://colab.research.google.com/github/AhnSeoJoon/code_3rd/blob/main/py231019.ipynb\" target=\"_parent\"><img src=\"https://colab.research.google.com/assets/colab-badge.svg\" alt=\"Open In Colab\"/></a>"
      ]
    },
    {
      "cell_type": "markdown",
      "source": [
        "1. To-Do List를 작성하시오.\n",
        "  - 2023년 10월 19일 안서준\n",
        "  - (1) 9:10 도서관에서 책 빌리기\n",
        "  - (2) 11:10 컴퓨팅적사고와 기초코딩 수업\n",
        "  - (3) 13:00 점심식사\n",
        "  - (4) 14:10 교양수업\n",
        "  - (5) 16:00 파이썬 공부 및 레포트 작성\n",
        "  - (6) 17:40 저녁식사및 집안일 돕기\n",
        "  - (7) 19:00 LOL하기"
      ],
      "metadata": {
        "id": "z5evQiakvz-U"
      }
    },
    {
      "cell_type": "code",
      "source": [
        "print('2023년 10월 19일 안서준' )                 # '2023년 10월 19일 안서준'을 출력합니다.\n",
        "print('(1) 9:10 도서관에서 책 빌리기')            # '(1) 9:10 도서관에서 책 빌리기'를 출력합니다.\n",
        "print('(2) 11:10 컴퓨팅적사고와 기초코딩 수업')   # '(2) 11:10 컴퓨팅적사고와 기초코딩 수업'을 출력합니다.\n",
        "print('(3) 13:10 점심식사')                       # '(3) 13:10 점심식사'를 출력합니다.\n",
        "print('(4) 14:10 교양수업')                       # '(4) 14:10 교양수업'을 출력합니다.\n",
        "print('(5) 16:00 파이썬 공부 및 레포트 작성')     # '(5) 16:00 파이썬 공부 및 레포트 작성'을 출력합니다.\n",
        "print('(6) 17:40 저녁식사및 집안일 돕기')         # '(6) 17:40 저녁식사및 집안일 돕기'를 출력합니다.\n",
        "print('(7) 19:00 LOL하기')                        # '(7) 19:00 LOL하기'를 출력합니다."
      ],
      "metadata": {
        "colab": {
          "base_uri": "https://localhost:8080/"
        },
        "id": "JOuqok5sxuH7",
        "outputId": "f83c3cf6-26fb-4af8-c7c9-4e4be86d8123"
      },
      "execution_count": null,
      "outputs": [
        {
          "output_type": "stream",
          "name": "stdout",
          "text": [
            "2023년 10월 19일 안서준\n",
            "(1) 9:10 도서관에서 책 빌리기\n",
            "(2) 11:10 컴퓨팅적사고와 기초코딩 수업\n",
            "(3) 13:10 점심식사\n",
            "(4) 14:10 교양수업\n",
            "(5) 16:00 파이썬 공부 및 레포트 작성\n",
            "(6) 17:40 저녁식사및 집안일 돕기\n",
            "(7) 19:00 LOL하기\n"
          ]
        }
      ]
    },
    {
      "cell_type": "markdown",
      "source": [
        "2. 인사말 출력하기\n",
        "  - 식사하셨습니까? 행님"
      ],
      "metadata": {
        "id": "KMLE6FW-wUIt"
      }
    },
    {
      "cell_type": "code",
      "source": [
        "print('식사하셨습니까? 행님')    # '식사하셨습니까? 행님'을 출력합니다."
      ],
      "metadata": {
        "colab": {
          "base_uri": "https://localhost:8080/"
        },
        "id": "3KkcktPD0ebk",
        "outputId": "477e4c24-0697-438f-c749-a40c076589af"
      },
      "execution_count": null,
      "outputs": [
        {
          "output_type": "stream",
          "name": "stdout",
          "text": [
            "식사하셨습니까? 행님\n"
          ]
        }
      ]
    },
    {
      "cell_type": "markdown",
      "source": [
        "3. 학생 4명의 국어점수를 입력받아서 아래와 같이 출력하시오.\n",
        " - 박보검: 90점\n",
        " - 션    : 92점\n",
        " - 도룡용: 80점\n",
        " - 차은우: 99점\n",
        " - 국어점수 순위\n",
        " - 1등 차은우\n",
        " - 2등 션\n",
        " - 3등 박보검\n",
        " - 4등 도룡용"
      ],
      "metadata": {
        "id": "3kXfGv6VwuQL"
      }
    },
    {
      "cell_type": "code",
      "source": [
        "n1 = input(\"학생점수를 입력하시오.:\")    # 사용자로부터 학생 점수를 입력받아 변수 n1에 저장합니다.\n",
        "n2 = input(\"학생점수를 입력하시오.:\")    # 사용자로부터 학생 점수를 입력받아 변수 n2에 저장합니다.\n",
        "n3 = input(\"학생점수를 입력하시오.:\")    # 사용자로부터 학생 점수를 입력받아 변수 n3에 저장합니다.\n",
        "n4 = input(\"학생점수를 입력하시오.:\")    # 사용자로부터 학생 점수를 입력받아 변수 n4에 저장합니다.\n",
        "print('국어점수 순위')\n",
        "print('1등' , n4)                        # 1등과 n4 변수의 값을 출력합니다.\n",
        "print('2등' , n2)                        # 2등과 n2 변수의 값을 출력합니다.\n",
        "print('3등' , n1)                        # 3등과 n1 변수의 값을 출력합니다.\n",
        "print('4등' , n3)                        # 4등과 n3 변수의 값을 출력합니다."
      ],
      "metadata": {
        "colab": {
          "base_uri": "https://localhost:8080/"
        },
        "id": "0mOKApYD1IZ1",
        "outputId": "322dd1f4-0139-4a24-a906-0f6a4ee7460a"
      },
      "execution_count": null,
      "outputs": [
        {
          "output_type": "stream",
          "name": "stdout",
          "text": [
            "학생점수를 입력하시오.:박보검  90점\n",
            "학생점수를 입력하시오.:션 92점\n",
            "학생점수를 입력하시오.:도롱용 80점\n",
            "학생점수를 입력하시오.:차은우 99점\n",
            "국어점수 순위\n",
            "1등 차은우 99점\n",
            "2등 션 92점\n",
            "3등 박보검  90점\n",
            "4등 도롱용 80점\n"
          ]
        }
      ]
    },
    {
      "cell_type": "markdown",
      "source": [
        "4. 두개의 점수를 입력받아서 합계와 평균을 출력하시오."
      ],
      "metadata": {
        "id": "3Xpn3aEixeae"
      }
    },
    {
      "cell_type": "code",
      "source": [
        "n1 = int(input('n1의 값을 입력하시오.'))   # 사용자로부터 정수 값을 입력받아 변수 n1에 저장합니다.\n",
        "n2 = int(input('n2의 값을 입력하시오.'))   # 사용자로부터 정수 값을 입력받아 변수 n2에 저장합니다.\n",
        "total = n1 + n2                            # n1과 n2의 합을 구하여 total 변수에 저장합니다.\n",
        "average = total / 2                        # total을 2로 나눈 평균을 계산하여 average 변수에 저장합니다.\n",
        "print(average)                             # average 값을 출력합니다."
      ],
      "metadata": {
        "colab": {
          "base_uri": "https://localhost:8080/"
        },
        "id": "Sfw94aL_2C-L",
        "outputId": "a884683d-25ac-4d43-b7fd-36f91ecce6c0"
      },
      "execution_count": null,
      "outputs": [
        {
          "output_type": "stream",
          "name": "stdout",
          "text": [
            "n1의 값을 입력하시오.80\n",
            "n2의 값을 입력하시오.60\n",
            "70.0\n"
          ]
        }
      ]
    }
  ]
}
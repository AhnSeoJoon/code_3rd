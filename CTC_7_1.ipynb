{
  "nbformat": 4,
  "nbformat_minor": 0,
  "metadata": {
    "colab": {
      "provenance": [],
      "authorship_tag": "ABX9TyO904dIgkp3W5FxKD1F0Lk6",
      "include_colab_link": true
    },
    "kernelspec": {
      "name": "python3",
      "display_name": "Python 3"
    },
    "language_info": {
      "name": "python"
    }
  },
  "cells": [
    {
      "cell_type": "markdown",
      "metadata": {
        "id": "view-in-github",
        "colab_type": "text"
      },
      "source": [
        "<a href=\"https://colab.research.google.com/github/AhnSeoJoon/code_3rd/blob/main/CTC_7_1.ipynb\" target=\"_parent\"><img src=\"https://colab.research.google.com/assets/colab-badge.svg\" alt=\"Open In Colab\"/></a>"
      ]
    },
    {
      "cell_type": "markdown",
      "source": [
        "1. 사용자로부터 3개의 값 (x, y, z)를 입력받아서 각각 1씩 증가하고, 출력하는 코드 작성"
      ],
      "metadata": {
        "id": "6bv2rIkxG5uX"
      }
    },
    {
      "cell_type": "code",
      "execution_count": 1,
      "metadata": {
        "colab": {
          "base_uri": "https://localhost:8080/"
        },
        "id": "e7isLFuTG4Cz",
        "outputId": "2b00ae50-3840-4110-92a8-43fbd72becd9"
      },
      "outputs": [
        {
          "output_type": "stream",
          "name": "stdout",
          "text": [
            "x의 값을 입력하시오.: 1\n",
            "y의 값을 입력하시오.: 1\n",
            "z의 값을 입력하시오.: 1\n",
            "x의 값은2이며, y의 값은 2이고, z의 값은 2이다\n"
          ]
        }
      ],
      "source": [
        " x =int(input(\"x의 값을 입력하시오.: \"))\n",
        " y =int(input(\"y의 값을 입력하시오.: \"))\n",
        " z =int(input(\"z의 값을 입력하시오.: \"))\n",
        " x = x + 1\n",
        " y = y + 1\n",
        " z = z + 1\n",
        "print(f'x의 값은{x}이며, y의 값은 {y}이고, z의 값은 {z}이다')"
      ]
    },
    {
      "cell_type": "markdown",
      "source": [
        "2. 알바생의 시급과 시간을 계산하여 월급을 출력한 코드"
      ],
      "metadata": {
        "id": "_Y5hdqNOJRXz"
      }
    },
    {
      "cell_type": "code",
      "source": [
        "hours_worked = int(input(\"일한 시간을 입력하시오:\"))\n",
        "pay_rate = int(input(\"시급을 입력하시오(23기준 9620원):\"))\n",
        "monthly_pay = hours_worked * pay_rate\n",
        "print(f'일한시간은 {hours_worked}이고, 시급은 {pay_rate}원 이며, 월급은 {monthly_pay}원 입니다.')"
      ],
      "metadata": {
        "colab": {
          "base_uri": "https://localhost:8080/"
        },
        "id": "w7rvf-xzJnT2",
        "outputId": "8786474c-2b46-462d-ba74-42a0b25554f9"
      },
      "execution_count": 2,
      "outputs": [
        {
          "output_type": "stream",
          "name": "stdout",
          "text": [
            "일한 시간을 입력하시오:10\n",
            "시급을 입력하시오(23기준 9620원):9620\n",
            "일한시간은 10이고, 시급은 (pay_rate)원 이며, 월급은 (monthly_pay)원 입니다.\n"
          ]
        }
      ]
    },
    {
      "cell_type": "markdown",
      "source": [
        "3. 환율 계산하는 코드작성\n",
        "  - 원의 변수는 won\n",
        "  - 달러의 변수는 usd\n",
        "  - 환전의 변수는 exchange"
      ],
      "metadata": {
        "id": "xka7YWhsL0p4"
      }
    },
    {
      "cell_type": "code",
      "source": [
        "won = int(input(\"환전할 금액을 입력(kor): \"))\n",
        "usd = int(input(\"환전할 금액을 입력(231031: 1372): \"))\n",
        "exchange = won * usd\n",
        "print(f'환전할 금액은 {won}이며, 달러 금액은 {usd}이고, 환전금액은 {exchange}입니다')"
      ],
      "metadata": {
        "colab": {
          "base_uri": "https://localhost:8080/"
        },
        "id": "J4ZHZksJMNvh",
        "outputId": "32605f4b-7bf2-4a8a-f0ca-8947f601c2fc"
      },
      "execution_count": 3,
      "outputs": [
        {
          "output_type": "stream",
          "name": "stdout",
          "text": [
            "환전할 금액을 입력(kor): 5000\n",
            "환전할 금액을 입력(231031: 1372): 1372\n",
            "환전할 금액은 5000이며, 달러 금액은 1372이고, 환전금액은 6860000입니다\n"
          ]
        }
      ]
    },
    {
      "cell_type": "markdown",
      "source": [
        "4. 화씨(fahrenheit)를 섭씨(celcius)로 변환하는 코드작성"
      ],
      "metadata": {
        "id": "kJFhCrOyN9A4"
      }
    },
    {
      "cell_type": "code",
      "source": [
        "fahrenheit = int(input(\"화씨온도를 입력하시오: \"))\n",
        "celcius = (fahrenheit - 32 // 1.8)\n",
        "print(f'화씨온도는 {fahrenheit}, 섭씨 {celcius}입니다.')"
      ],
      "metadata": {
        "colab": {
          "base_uri": "https://localhost:8080/"
        },
        "id": "Xxxtbd1ePsCp",
        "outputId": "b53681e8-c86c-49c3-d31d-99686cded0a0"
      },
      "execution_count": 5,
      "outputs": [
        {
          "output_type": "stream",
          "name": "stdout",
          "text": [
            "화씨온도를 입력하시오: 100\n",
            "화씨온도는 100, 섭씨 83.0입니다.\n"
          ]
        }
      ]
    },
    {
      "cell_type": "code",
      "source": [
        "celcius = int(input(\"섭씨온도를 입력하시오: \"))\n",
        "fahrenheit = ( celcius * 1.8) + 32\n",
        "print(f'섭씨온도는 {celcius}, 화씨 {fahrenheit}입니다.')"
      ],
      "metadata": {
        "colab": {
          "base_uri": "https://localhost:8080/"
        },
        "id": "le_Szn1DP3q2",
        "outputId": "acf62ad3-2179-46b6-a882-fab75f7e6d69"
      },
      "execution_count": 6,
      "outputs": [
        {
          "output_type": "stream",
          "name": "stdout",
          "text": [
            "섭씨온도를 입력하시오: 83\n",
            "섭씨온도는 83, 화씨 181.4입니다.\n"
          ]
        }
      ]
    }
  ]
}